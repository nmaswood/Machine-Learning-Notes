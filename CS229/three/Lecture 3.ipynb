{
 "cells": [
  {
   "cell_type": "markdown",
   "metadata": {},
   "source": [
    "# Probabalistic Interpretation of Linear Regression\n",
    "\n",
    "\n",
    "Let us a choose a hypothesis set of the form\n",
    "\n",
    "$$ y^i = \\theta^T x^i + \\epsilon^i$$\n",
    "\n",
    "Where $\\epsilon$ represents some error term either in mismeasuring, noise in the data or some features which we have not accounted for.\n",
    "\n",
    "\n",
    "Let $\\epsilon$ be modeled by the following Normal distribution\n",
    "\n",
    "$$ \\epsilon \\sim \\mathcal{N}(0,\\,\\sigma^{2})$$\n",
    "\n",
    "Let then $y^i$ be a Normal distribution of the form f\n",
    "\n",
    "\n",
    "$$ y_i \\sim \\mathcal{N}(\\theta^T x^i,\\,\\sigma^{2})$$\n",
    "\n",
    "The liklihood of the data is then given as \n",
    "\n",
    "$$L(\\theta) = \\prod_{i=1}^{m} \\frac{1}{\\sqrt{2 \\pi}\\sigma} \\exp(-\\frac{(y^i - \\theta ^T x^i)^2}{2 \\sigma^2})) $$\n",
    "\n",
    "Maximizing this wrt to log liklihood gives us \n",
    "\n",
    "$$\\frac{1}{2} \\sum_{i=1}^{m} (y^i - \\theta ^T x^i)^2$$\n",
    "\n",
    "__Note that $\\sigma$ is not a factor in this final value__\n",
    "\n",
    "# Non-parametric Learning Algorithims\n",
    "\n",
    "\n",
    "## Basic Definition\n",
    "\n",
    "__ A non-parametric learning algorithim does not a fixed number of parameters.This means that the time it takes grows $O(m)$ with respect to the training data__ \n",
    "\n",
    "## Motivation\n",
    "\n",
    "Consider a regression problem where we are not exactly sure of the order of polynomial required to fit the data. We are struggling between overfitting and underfitting. One method to overcome this problem is use locally weighted linear regression. This method essentially produces a line of best fit in a local regression around $x_i$\n",
    "\n",
    "![alt text](assets/np.png \"Title\")\n",
    "\n",
    "\n",
    "\n",
    "Our new problem is \n",
    "\n",
    "1. Fit $\\theta$ to minimize $\\sum_i w^i (y_i - \\theta^T x^i)^2$\n",
    "2. Output $\\theta^T x$\n",
    "\n",
    "Where $w_i$ is a function that expoentially decays with distance from point $x_i$ \n",
    "\n",
    "\n",
    "$w^i = \\exp(\\frac{(x_i - x)^2}{2\\tau^2})$\n",
    "\n",
    "Where the factor $\\tau$ called the bandwidth determines how quickly the weights fall off.\n",
    "\n",
    "\n"
   ]
  }
 ],
 "metadata": {
  "kernelspec": {
   "display_name": "Python 3",
   "language": "python",
   "name": "python3"
  },
  "language_info": {
   "codemirror_mode": {
    "name": "ipython",
    "version": 3
   },
   "file_extension": ".py",
   "mimetype": "text/x-python",
   "name": "python",
   "nbconvert_exporter": "python",
   "pygments_lexer": "ipython3",
   "version": "3.6.1"
  }
 },
 "nbformat": 4,
 "nbformat_minor": 2
}
